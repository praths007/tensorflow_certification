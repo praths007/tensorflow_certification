{
  "nbformat": 4,
  "nbformat_minor": 0,
  "metadata": {
    "kernelspec": {
      "display_name": "Python 3",
      "language": "python",
      "name": "python3"
    },
    "language_info": {
      "codemirror_mode": {
        "name": "ipython",
        "version": 3
      },
      "file_extension": ".py",
      "mimetype": "text/x-python",
      "name": "python",
      "nbconvert_exporter": "python",
      "pygments_lexer": "ipython3",
      "version": "3.8.3"
    },
    "colab": {
      "name": "tensorflow_NLP.ipynb",
      "provenance": [],
      "include_colab_link": true
    }
  },
  "cells": [
    {
      "cell_type": "markdown",
      "metadata": {
        "id": "view-in-github",
        "colab_type": "text"
      },
      "source": [
        "<a href=\"https://colab.research.google.com/github/praths007/tensorflow_certification/blob/master/coursera_practise/tensorflow_NLP_exercise.ipynb\" target=\"_parent\"><img src=\"https://colab.research.google.com/assets/colab-badge.svg\" alt=\"Open In Colab\"/></a>"
      ]
    },
    {
      "cell_type": "code",
      "metadata": {
        "scrolled": false,
        "id": "MeJJUtrXDMu1",
        "colab_type": "code",
        "colab": {}
      },
      "source": [
        "import tensorflow as tf"
      ],
      "execution_count": 3,
      "outputs": []
    },
    {
      "cell_type": "code",
      "metadata": {
        "id": "AzAr-il5DMu6",
        "colab_type": "code",
        "colab": {
          "base_uri": "https://localhost:8080/",
          "height": 35
        },
        "outputId": "3cf8b3a0-d297-4fb7-d3ec-f54e23d63cc3"
      },
      "source": [
        "tf.__version__"
      ],
      "execution_count": 4,
      "outputs": [
        {
          "output_type": "execute_result",
          "data": {
            "application/vnd.google.colaboratory.intrinsic+json": {
              "type": "string"
            },
            "text/plain": [
              "'2.3.0'"
            ]
          },
          "metadata": {
            "tags": []
          },
          "execution_count": 4
        }
      ]
    },
    {
      "cell_type": "code",
      "metadata": {
        "id": "Pmw9R-du7uiK",
        "colab_type": "code",
        "colab": {}
      },
      "source": [
        "import tensorflow"
      ],
      "execution_count": 5,
      "outputs": []
    },
    {
      "cell_type": "code",
      "metadata": {
        "id": "9LMutYEc7xNz",
        "colab_type": "code",
        "colab": {}
      },
      "source": [
        "import numpy as np\n",
        "import csv\n",
        "import pandas as pd\n",
        "from tensorflow.keras.preprocessing.text import Tokenizer\n",
        "from tensorflow.keras.preprocessing.sequence import pad_sequences\n",
        "from tensorflow.keras import Sequential\n",
        "from tensorflow.keras.layers import Embedding, GlobalAvgPool1D, Dense"
      ],
      "execution_count": 32,
      "outputs": []
    },
    {
      "cell_type": "code",
      "metadata": {
        "id": "XlUbTFu-8hop",
        "colab_type": "code",
        "colab": {
          "base_uri": "https://localhost:8080/",
          "height": 204
        },
        "outputId": "c93c67db-3bf5-409e-cf06-132e9526d923"
      },
      "source": [
        "!wget --no-check-certificate \\\n",
        "    https://storage.googleapis.com/laurencemoroney-blog.appspot.com/bbc-text.csv \\\n",
        "    -O /tmp/bbc-text.csv"
      ],
      "execution_count": 8,
      "outputs": [
        {
          "output_type": "stream",
          "text": [
            "--2020-08-17 10:33:29--  https://storage.googleapis.com/laurencemoroney-blog.appspot.com/bbc-text.csv\n",
            "Resolving storage.googleapis.com (storage.googleapis.com)... 172.217.204.128, 172.217.203.128, 74.125.141.128, ...\n",
            "Connecting to storage.googleapis.com (storage.googleapis.com)|172.217.204.128|:443... connected.\n",
            "HTTP request sent, awaiting response... 200 OK\n",
            "Length: 5057493 (4.8M) [application/octet-stream]\n",
            "Saving to: ‘/tmp/bbc-text.csv’\n",
            "\n",
            "\r/tmp/bbc-text.csv     0%[                    ]       0  --.-KB/s               \r/tmp/bbc-text.csv   100%[===================>]   4.82M  --.-KB/s    in 0.05s   \n",
            "\n",
            "2020-08-17 10:33:29 (106 MB/s) - ‘/tmp/bbc-text.csv’ saved [5057493/5057493]\n",
            "\n"
          ],
          "name": "stdout"
        }
      ]
    },
    {
      "cell_type": "code",
      "metadata": {
        "id": "y6SVp_xt9gBg",
        "colab_type": "code",
        "colab": {}
      },
      "source": [
        "# pd.read_csv(\"/tmp/bbc-text.csv\")"
      ],
      "execution_count": 9,
      "outputs": []
    },
    {
      "cell_type": "code",
      "metadata": {
        "id": "iLD5KvPf8lFh",
        "colab_type": "code",
        "colab": {}
      },
      "source": [
        "label = []\n",
        "text = []\n",
        "with open(\"/tmp/bbc-text.csv\", \"r\") as csv_file:\n",
        "  file_csv = csv.reader(csv_file, delimiter=',')\n",
        "  # print(file_csv)\n",
        "  header = 1\n",
        "  for row in file_csv:\n",
        "    if(header != 1):\n",
        "      label.append(row[0])\n",
        "      text.append(row[1])\n",
        "    else:\n",
        "      header+=1\n",
        "      continue"
      ],
      "execution_count": 101,
      "outputs": []
    },
    {
      "cell_type": "code",
      "metadata": {
        "id": "c4YWhxFC_6v4",
        "colab_type": "code",
        "colab": {}
      },
      "source": [
        "train_size = int(len(label) * 0.8)\n",
        "train_x = text[:train_size]\n",
        "train_y = label[:train_size]\n",
        "\n",
        "test_x = text[train_size:]\n",
        "test_y = label[train_size:]"
      ],
      "execution_count": 139,
      "outputs": []
    },
    {
      "cell_type": "code",
      "metadata": {
        "id": "qxEtSDCqF3rk",
        "colab_type": "code",
        "colab": {}
      },
      "source": [
        "vocab_size = 500\n",
        "embedding_dims = 10000\n",
        "output_dims = 64\n",
        "max_len = 100"
      ],
      "execution_count": 140,
      "outputs": []
    },
    {
      "cell_type": "code",
      "metadata": {
        "id": "fTForqM8_mIx",
        "colab_type": "code",
        "colab": {}
      },
      "source": [
        "tokenizer = Tokenizer(num_words=vocab_size, oov_token=\"<OOV>\")\n",
        "tokenizer.fit_on_texts(train_x)\n",
        "\n",
        "label_tokenizer = Tokenizer()\n",
        "label_tokenizer.fit_on_texts(train_y)\n",
        "train_y = label_tokenizer.texts_to_sequences(train_y)\n",
        "test_y = label_tokenizer.texts_to_sequences(test_y)\n",
        "\n",
        "train_x_seq = tokenizer.texts_to_sequences(train_x)\n",
        "train_x_padded = pad_sequences(train_x_seq, maxlen=max_len)\n",
        "\n",
        "test_x_seq = tokenizer.texts_to_sequences(test_x)\n",
        "test_x_padded = pad_sequences(test_x_seq, maxlen=max_len)\n",
        "\n",
        "train_x_padded = np.array(train_x_padded)\n",
        "test_x_padded = np.array(test_x_padded)\n",
        "train_y = np.array(train_y)\n",
        "test_y = np.array(test_y)"
      ],
      "execution_count": 141,
      "outputs": []
    },
    {
      "cell_type": "code",
      "metadata": {
        "id": "473H1L3lPML7",
        "colab_type": "code",
        "colab": {
          "base_uri": "https://localhost:8080/",
          "height": 34
        },
        "outputId": "117562da-178e-4a35-edb6-b41e08c66802"
      },
      "source": [
        "len(train_x_padded)"
      ],
      "execution_count": 142,
      "outputs": [
        {
          "output_type": "execute_result",
          "data": {
            "text/plain": [
              "1780"
            ]
          },
          "metadata": {
            "tags": []
          },
          "execution_count": 142
        }
      ]
    },
    {
      "cell_type": "code",
      "metadata": {
        "id": "u_RGKNjBOjj4",
        "colab_type": "code",
        "colab": {
          "base_uri": "https://localhost:8080/",
          "height": 34
        },
        "outputId": "9713aac5-8150-46aa-a523-c7dd163a24a8"
      },
      "source": [
        "train_x_padded.shape"
      ],
      "execution_count": 143,
      "outputs": [
        {
          "output_type": "execute_result",
          "data": {
            "text/plain": [
              "(1780, 100)"
            ]
          },
          "metadata": {
            "tags": []
          },
          "execution_count": 143
        }
      ]
    },
    {
      "cell_type": "code",
      "metadata": {
        "id": "5EklkW5BG42-",
        "colab_type": "code",
        "colab": {}
      },
      "source": [
        "model = Sequential([\n",
        "                    Embedding(input_dim=embedding_dims, output_dim=output_dims, input_length=train_x_padded.shape[1]),\n",
        "                    GlobalAvgPool1D(),\n",
        "                    Dense(64, activation='relu'),\n",
        "                    Dense(6, activation='softmax')\n",
        "])\n",
        "\n"
      ],
      "execution_count": 144,
      "outputs": []
    },
    {
      "cell_type": "code",
      "metadata": {
        "id": "sJmtpRhQJpcD",
        "colab_type": "code",
        "colab": {
          "base_uri": "https://localhost:8080/",
          "height": 289
        },
        "outputId": "6995dadb-5f22-48d3-8b1e-cabfa32d658e"
      },
      "source": [
        "model.summary()"
      ],
      "execution_count": 145,
      "outputs": [
        {
          "output_type": "stream",
          "text": [
            "Model: \"sequential_20\"\n",
            "_________________________________________________________________\n",
            "Layer (type)                 Output Shape              Param #   \n",
            "=================================================================\n",
            "embedding_20 (Embedding)     (None, 100, 64)           640000    \n",
            "_________________________________________________________________\n",
            "global_average_pooling1d_20  (None, 64)                0         \n",
            "_________________________________________________________________\n",
            "dense_40 (Dense)             (None, 64)                4160      \n",
            "_________________________________________________________________\n",
            "dense_41 (Dense)             (None, 6)                 390       \n",
            "=================================================================\n",
            "Total params: 644,550\n",
            "Trainable params: 644,550\n",
            "Non-trainable params: 0\n",
            "_________________________________________________________________\n"
          ],
          "name": "stdout"
        }
      ]
    },
    {
      "cell_type": "code",
      "metadata": {
        "id": "CszDzyhtKs7a",
        "colab_type": "code",
        "colab": {
          "base_uri": "https://localhost:8080/",
          "height": 34
        },
        "outputId": "1783c8ec-edbe-4eef-b507-6b29fa2c37a8"
      },
      "source": [
        "np.unique(train_y), np.unique(test_y)"
      ],
      "execution_count": 146,
      "outputs": [
        {
          "output_type": "execute_result",
          "data": {
            "text/plain": [
              "(array([1, 2, 3, 4, 5]), array([1, 2, 3, 4, 5]))"
            ]
          },
          "metadata": {
            "tags": []
          },
          "execution_count": 146
        }
      ]
    },
    {
      "cell_type": "code",
      "metadata": {
        "id": "zjpCzqFNJow1",
        "colab_type": "code",
        "colab": {
          "base_uri": "https://localhost:8080/",
          "height": 1000
        },
        "outputId": "c12a6f00-f52a-4b87-a472-36b14865b8a4"
      },
      "source": [
        "model.compile(optimizer='adam', loss='sparse_categorical_crossentropy', metrics=['acc'])\n",
        "\n",
        "model.fit(train_x_padded, train_y, validation_data=(test_x_padded, test_y), epochs=30)"
      ],
      "execution_count": 149,
      "outputs": [
        {
          "output_type": "stream",
          "text": [
            "Epoch 1/30\n",
            "56/56 [==============================] - 1s 10ms/step - loss: 0.2732 - acc: 0.9281 - val_loss: 0.4729 - val_acc: 0.8427\n",
            "Epoch 2/30\n",
            "56/56 [==============================] - 0s 8ms/step - loss: 0.2507 - acc: 0.9360 - val_loss: 0.4634 - val_acc: 0.8360\n",
            "Epoch 3/30\n",
            "56/56 [==============================] - 0s 8ms/step - loss: 0.2271 - acc: 0.9399 - val_loss: 0.4469 - val_acc: 0.8427\n",
            "Epoch 4/30\n",
            "56/56 [==============================] - 0s 8ms/step - loss: 0.2087 - acc: 0.9449 - val_loss: 0.4361 - val_acc: 0.8517\n",
            "Epoch 5/30\n",
            "56/56 [==============================] - 0s 8ms/step - loss: 0.1931 - acc: 0.9489 - val_loss: 0.4310 - val_acc: 0.8539\n",
            "Epoch 6/30\n",
            "56/56 [==============================] - 0s 8ms/step - loss: 0.1773 - acc: 0.9478 - val_loss: 0.4300 - val_acc: 0.8382\n",
            "Epoch 7/30\n",
            "56/56 [==============================] - 0s 8ms/step - loss: 0.1642 - acc: 0.9528 - val_loss: 0.4300 - val_acc: 0.8404\n",
            "Epoch 8/30\n",
            "56/56 [==============================] - 0s 8ms/step - loss: 0.1526 - acc: 0.9601 - val_loss: 0.4204 - val_acc: 0.8449\n",
            "Epoch 9/30\n",
            "56/56 [==============================] - 0s 8ms/step - loss: 0.1423 - acc: 0.9624 - val_loss: 0.4186 - val_acc: 0.8517\n",
            "Epoch 10/30\n",
            "56/56 [==============================] - 0s 8ms/step - loss: 0.1284 - acc: 0.9702 - val_loss: 0.4155 - val_acc: 0.8494\n",
            "Epoch 11/30\n",
            "56/56 [==============================] - 0s 8ms/step - loss: 0.1181 - acc: 0.9736 - val_loss: 0.4210 - val_acc: 0.8494\n",
            "Epoch 12/30\n",
            "56/56 [==============================] - 0s 8ms/step - loss: 0.1101 - acc: 0.9753 - val_loss: 0.4249 - val_acc: 0.8517\n",
            "Epoch 13/30\n",
            "56/56 [==============================] - 0s 8ms/step - loss: 0.1023 - acc: 0.9775 - val_loss: 0.4169 - val_acc: 0.8517\n",
            "Epoch 14/30\n",
            "56/56 [==============================] - 0s 8ms/step - loss: 0.0937 - acc: 0.9803 - val_loss: 0.4339 - val_acc: 0.8517\n",
            "Epoch 15/30\n",
            "56/56 [==============================] - 0s 9ms/step - loss: 0.0869 - acc: 0.9848 - val_loss: 0.4278 - val_acc: 0.8539\n",
            "Epoch 16/30\n",
            "56/56 [==============================] - 0s 8ms/step - loss: 0.0784 - acc: 0.9871 - val_loss: 0.4385 - val_acc: 0.8539\n",
            "Epoch 17/30\n",
            "56/56 [==============================] - 0s 8ms/step - loss: 0.0732 - acc: 0.9910 - val_loss: 0.4322 - val_acc: 0.8562\n",
            "Epoch 18/30\n",
            "56/56 [==============================] - 0s 8ms/step - loss: 0.0671 - acc: 0.9933 - val_loss: 0.4457 - val_acc: 0.8472\n",
            "Epoch 19/30\n",
            "56/56 [==============================] - 0s 8ms/step - loss: 0.0622 - acc: 0.9916 - val_loss: 0.4525 - val_acc: 0.8517\n",
            "Epoch 20/30\n",
            "56/56 [==============================] - 0s 8ms/step - loss: 0.0577 - acc: 0.9955 - val_loss: 0.4608 - val_acc: 0.8404\n",
            "Epoch 21/30\n",
            "56/56 [==============================] - 0s 9ms/step - loss: 0.0531 - acc: 0.9961 - val_loss: 0.4488 - val_acc: 0.8494\n",
            "Epoch 22/30\n",
            "56/56 [==============================] - 0s 8ms/step - loss: 0.0488 - acc: 0.9966 - val_loss: 0.4561 - val_acc: 0.8517\n",
            "Epoch 23/30\n",
            "56/56 [==============================] - 0s 8ms/step - loss: 0.0451 - acc: 0.9972 - val_loss: 0.4657 - val_acc: 0.8449\n",
            "Epoch 24/30\n",
            "56/56 [==============================] - 0s 8ms/step - loss: 0.0415 - acc: 0.9972 - val_loss: 0.4712 - val_acc: 0.8517\n",
            "Epoch 25/30\n",
            "56/56 [==============================] - 0s 8ms/step - loss: 0.0379 - acc: 0.9989 - val_loss: 0.4790 - val_acc: 0.8494\n",
            "Epoch 26/30\n",
            "56/56 [==============================] - 0s 8ms/step - loss: 0.0355 - acc: 0.9983 - val_loss: 0.4870 - val_acc: 0.8517\n",
            "Epoch 27/30\n",
            "56/56 [==============================] - 0s 9ms/step - loss: 0.0329 - acc: 0.9989 - val_loss: 0.5017 - val_acc: 0.8472\n",
            "Epoch 28/30\n",
            "56/56 [==============================] - 0s 8ms/step - loss: 0.0300 - acc: 0.9994 - val_loss: 0.5034 - val_acc: 0.8517\n",
            "Epoch 29/30\n",
            "56/56 [==============================] - 0s 8ms/step - loss: 0.0285 - acc: 0.9994 - val_loss: 0.5160 - val_acc: 0.8472\n",
            "Epoch 30/30\n",
            "56/56 [==============================] - 0s 8ms/step - loss: 0.0259 - acc: 0.9989 - val_loss: 0.5172 - val_acc: 0.8449\n"
          ],
          "name": "stdout"
        },
        {
          "output_type": "execute_result",
          "data": {
            "text/plain": [
              "<tensorflow.python.keras.callbacks.History at 0x7f2cbc6bc780>"
            ]
          },
          "metadata": {
            "tags": []
          },
          "execution_count": 149
        }
      ]
    }
  ]
}