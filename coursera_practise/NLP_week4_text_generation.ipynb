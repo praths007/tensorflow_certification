{
  "nbformat": 4,
  "nbformat_minor": 0,
  "metadata": {
    "kernelspec": {
      "display_name": "Python 3",
      "language": "python",
      "name": "python3"
    },
    "language_info": {
      "codemirror_mode": {
        "name": "ipython",
        "version": 3
      },
      "file_extension": ".py",
      "mimetype": "text/x-python",
      "name": "python",
      "nbconvert_exporter": "python",
      "pygments_lexer": "ipython3",
      "version": "3.8.3"
    },
    "colab": {
      "name": "tensorflow_NLP.ipynb",
      "provenance": [],
      "include_colab_link": true
    },
    "accelerator": "GPU"
  },
  "cells": [
    {
      "cell_type": "markdown",
      "metadata": {
        "id": "view-in-github",
        "colab_type": "text"
      },
      "source": [
        "<a href=\"https://colab.research.google.com/github/praths007/tensorflow_certification/blob/master/coursera_practise/NLP_week4_text_generation.ipynb\" target=\"_parent\"><img src=\"https://colab.research.google.com/assets/colab-badge.svg\" alt=\"Open In Colab\"/></a>"
      ]
    },
    {
      "cell_type": "code",
      "metadata": {
        "id": "3qmO6nyR5MGn",
        "colab_type": "code",
        "colab": {}
      },
      "source": [
        "import tensorflow as tf"
      ],
      "execution_count": 1,
      "outputs": []
    },
    {
      "cell_type": "code",
      "metadata": {
        "id": "KOC7bVJa5OUO",
        "colab_type": "code",
        "colab": {
          "base_uri": "https://localhost:8080/",
          "height": 35
        },
        "outputId": "8411ee88-29c6-4944-bc51-cd1cab95429b"
      },
      "source": [
        "tf.__version__"
      ],
      "execution_count": 2,
      "outputs": [
        {
          "output_type": "execute_result",
          "data": {
            "application/vnd.google.colaboratory.intrinsic+json": {
              "type": "string"
            },
            "text/plain": [
              "'2.3.0'"
            ]
          },
          "metadata": {
            "tags": []
          },
          "execution_count": 2
        }
      ]
    },
    {
      "cell_type": "code",
      "metadata": {
        "id": "2glVPyTN5XUY",
        "colab_type": "code",
        "colab": {}
      },
      "source": [
        "import tensorflow\n",
        "import numpy as np\n",
        "from tensorflow.keras.preprocessing.text import Tokenizer\n",
        "from tensorflow.keras.preprocessing.sequence import pad_sequences\n",
        "from tensorflow.keras import Sequential\n",
        "from tensorflow.keras.layers import Dense, GlobalAvgPool1D, LSTM, Bidirectional, Embedding, Flatten\n",
        "from tensorflow.keras.utils import to_categorical"
      ],
      "execution_count": 46,
      "outputs": []
    },
    {
      "cell_type": "code",
      "metadata": {
        "id": "960_NSPSvlBi",
        "colab_type": "code",
        "colab": {}
      },
      "source": [
        "data=\"In the town of Athy one Jeremy Lanigan \\n Battered away til he hadnt a pound. \\nHis father died and made him a man again \\n Left him a farm and ten acres of ground. \\nHe gave a grand party for friends and relations \\nWho didnt forget him when come to the wall, \\nAnd if youll but listen Ill make your eyes glisten \\nOf the rows and the ructions of Lanigans Ball. \\nMyself to be sure got free invitation, \\nFor all the nice girls and boys I might ask, \\nAnd just in a minute both friends and relations \\nWere dancing round merry as bees round a cask. \\nJudy ODaly, that nice little milliner, \\nShe tipped me a wink for to give her a call, \\nAnd I soon arrived with Peggy McGilligan \\nJust in time for Lanigans Ball. \\nThere were lashings of punch and wine for the ladies, \\nPotatoes and cakes; there was bacon and tea, \\nThere were the Nolans, Dolans, OGradys \\nCourting the girls and dancing away. \\nSongs they went round as plenty as water, \\nThe harp that once sounded in Taras old hall,\\nSweet Nelly Gray and The Rat Catchers Daughter,\\nAll singing together at Lanigans Ball. \\nThey were doing all kinds of nonsensical polkas \\nAll round the room in a whirligig. \\nJulia and I, we banished their nonsense \\nAnd tipped them the twist of a reel and a jig. \\nAch mavrone, how the girls got all mad at me \\nDanced til youd think the ceiling would fall. \\nFor I spent three weeks at Brooks Academy \\nLearning new steps for Lanigans Ball. \\nThree long weeks I spent up in Dublin, \\nThree long weeks to learn nothing at all,\\n Three long weeks I spent up in Dublin, \\nLearning new steps for Lanigans Ball. \\nShe stepped out and I stepped in again, \\nI stepped out and she stepped in again, \\nShe stepped out and I stepped in again, \\nLearning new steps for Lanigans Ball. \\nBoys were all merry and the girls they were hearty \\nAnd danced all around in couples and groups, \\nTil an accident happened, young Terrance McCarthy \\nPut his right leg through miss Finnertys hoops. \\nPoor creature fainted and cried Meelia murther, \\nCalled for her brothers and gathered them all. \\nCarmody swore that hed go no further \\nTil he had satisfaction at Lanigans Ball. \\nIn the midst of the row miss Kerrigan fainted, \\nHer cheeks at the same time as red as a rose. \\nSome of the lads declared she was painted, \\nShe took a small drop too much, I suppose. \\nHer sweetheart, Ned Morgan, so powerful and able, \\nWhen he saw his fair colleen stretched out by the wall, \\nTore the left leg from under the table \\nAnd smashed all the Chaneys at Lanigans Ball. \\nBoys, oh boys, twas then there were runctions. \\nMyself got a lick from big Phelim McHugh. \\nI soon replied to his introduction \\nAnd kicked up a terrible hullabaloo. \\nOld Casey, the piper, was near being strangled. \\nThey squeezed up his pipes, bellows, chanters and all. \\nThe girls, in their ribbons, they got all entangled \\nAnd that put an end to Lanigans Ball.\"\n",
        "\n",
        "corpus = data.split('\\n')"
      ],
      "execution_count": 6,
      "outputs": []
    },
    {
      "cell_type": "code",
      "metadata": {
        "id": "iiIk1Anivzdn",
        "colab_type": "code",
        "colab": {}
      },
      "source": [
        "tokenizer = Tokenizer()\n",
        "\n",
        "tokenizer.fit_on_texts(corpus)\n",
        "\n",
        "vocab = tokenizer.word_index\n",
        "\n",
        "n_gram_vocab = []\n",
        "for line in corpus:\n",
        "  sequence = tokenizer.texts_to_sequences([line])[0]\n",
        "  for i in range(1, len(sequence)):\n",
        "    n_grams = sequence[:i+1]\n",
        "    n_gram_vocab.append(n_grams)"
      ],
      "execution_count": 21,
      "outputs": []
    },
    {
      "cell_type": "code",
      "metadata": {
        "id": "_1-60PdCwvLJ",
        "colab_type": "code",
        "colab": {}
      },
      "source": [
        "maxlen = max([len(s) for s in n_gram_vocab])\n",
        "padded_seq = pad_sequences(n_gram_vocab, maxlen=maxlen, padding='pre')"
      ],
      "execution_count": 19,
      "outputs": []
    },
    {
      "cell_type": "code",
      "metadata": {
        "id": "qhs5Qf4ezBEG",
        "colab_type": "code",
        "colab": {
          "base_uri": "https://localhost:8080/",
          "height": 136
        },
        "outputId": "2d16c882-857c-4ddb-b22a-d3af4e206437"
      },
      "source": [
        "padded_seq"
      ],
      "execution_count": 31,
      "outputs": [
        {
          "output_type": "execute_result",
          "data": {
            "text/plain": [
              "array([[  0,   0,   0, ...,   0,   4,   2],\n",
              "       [  0,   0,   0, ...,   4,   2,  66],\n",
              "       [  0,   0,   0, ...,   2,  66,   8],\n",
              "       ...,\n",
              "       [  0,   0,   0, ...,  60, 262,  13],\n",
              "       [  0,   0,   0, ..., 262,  13,   9],\n",
              "       [  0,   0,   0, ...,  13,   9,  10]], dtype=int32)"
            ]
          },
          "metadata": {
            "tags": []
          },
          "execution_count": 31
        }
      ]
    },
    {
      "cell_type": "code",
      "metadata": {
        "id": "skApE2pSyQft",
        "colab_type": "code",
        "colab": {}
      },
      "source": [
        "sentences = np.array(padded_seq[:,:-1])\n",
        "labels =  np.array(padded_seq[:,-1])\n",
        "\n"
      ],
      "execution_count": 69,
      "outputs": []
    },
    {
      "cell_type": "code",
      "metadata": {
        "id": "kvj72BbVzzlb",
        "colab_type": "code",
        "colab": {
          "base_uri": "https://localhost:8080/",
          "height": 34
        },
        "outputId": "1bd867e1-dccf-4194-b032-c752d4099605"
      },
      "source": [
        "sentences.shape"
      ],
      "execution_count": 70,
      "outputs": [
        {
          "output_type": "execute_result",
          "data": {
            "text/plain": [
              "(453, 10)"
            ]
          },
          "metadata": {
            "tags": []
          },
          "execution_count": 70
        }
      ]
    },
    {
      "cell_type": "code",
      "metadata": {
        "id": "eWv-OMf-2j0D",
        "colab_type": "code",
        "colab": {}
      },
      "source": [
        "train_size = int(len(sentences) * 0.8)\n",
        "\n",
        "train_sent = sentences[:train_size]\n",
        "train_labels = labels[:train_size]\n",
        "\n",
        "test_sent = sentences[train_size:]\n",
        "test_labels = labels[train_size:]"
      ],
      "execution_count": 71,
      "outputs": []
    },
    {
      "cell_type": "code",
      "metadata": {
        "id": "rgFuZLKK3Mym",
        "colab_type": "code",
        "colab": {}
      },
      "source": [
        "test_labels = to_categorical(test_labels)\n",
        "train_labels = to_categorical(train_labels)"
      ],
      "execution_count": 72,
      "outputs": []
    },
    {
      "cell_type": "code",
      "metadata": {
        "id": "c6YXfLsH0Frf",
        "colab_type": "code",
        "colab": {
          "base_uri": "https://localhost:8080/",
          "height": 34
        },
        "outputId": "1ededa18-d1fa-472f-d3eb-cec7c460176d"
      },
      "source": [
        "labels.shape"
      ],
      "execution_count": 73,
      "outputs": [
        {
          "output_type": "execute_result",
          "data": {
            "text/plain": [
              "(453,)"
            ]
          },
          "metadata": {
            "tags": []
          },
          "execution_count": 73
        }
      ]
    },
    {
      "cell_type": "code",
      "metadata": {
        "id": "bfUeIKgOzUQO",
        "colab_type": "code",
        "colab": {}
      },
      "source": [
        "model = Sequential([\n",
        "                    Embedding(10000, 64, input_length=train_sent.shape[1]),\n",
        "                    Bidirectional(LSTM(16)),\n",
        "                    Flatten(),\n",
        "                    Dense(128, activation='relu'),\n",
        "                    Dense(train_labels.shape[1], activation='softmax')\n",
        "\n",
        "])"
      ],
      "execution_count": 75,
      "outputs": []
    },
    {
      "cell_type": "code",
      "metadata": {
        "id": "9kDOesVg0L5D",
        "colab_type": "code",
        "colab": {
          "base_uri": "https://localhost:8080/",
          "height": 323
        },
        "outputId": "820e4f7c-612d-4b02-cb9b-38716c7900e1"
      },
      "source": [
        "model.summary()"
      ],
      "execution_count": 76,
      "outputs": [
        {
          "output_type": "stream",
          "text": [
            "Model: \"sequential_8\"\n",
            "_________________________________________________________________\n",
            "Layer (type)                 Output Shape              Param #   \n",
            "=================================================================\n",
            "embedding_10 (Embedding)     (None, 10, 64)            640000    \n",
            "_________________________________________________________________\n",
            "bidirectional_10 (Bidirectio (None, 32)                10368     \n",
            "_________________________________________________________________\n",
            "flatten_8 (Flatten)          (None, 32)                0         \n",
            "_________________________________________________________________\n",
            "dense_17 (Dense)             (None, 128)               4224      \n",
            "_________________________________________________________________\n",
            "dense_18 (Dense)             (None, 217)               27993     \n",
            "=================================================================\n",
            "Total params: 682,585\n",
            "Trainable params: 682,585\n",
            "Non-trainable params: 0\n",
            "_________________________________________________________________\n"
          ],
          "name": "stdout"
        }
      ]
    },
    {
      "cell_type": "code",
      "metadata": {
        "id": "ZOoWBgt74x6I",
        "colab_type": "code",
        "colab": {
          "base_uri": "https://localhost:8080/",
          "height": 289
        },
        "outputId": "9ee2e04d-f956-4945-a982-16cab9fc0c17"
      },
      "source": [
        "test_labels[0]"
      ],
      "execution_count": 83,
      "outputs": [
        {
          "output_type": "execute_result",
          "data": {
            "text/plain": [
              "array([0., 0., 0., 0., 0., 0., 0., 0., 0., 0., 0., 0., 0., 0., 0., 0., 0.,\n",
              "       0., 0., 0., 0., 0., 0., 0., 0., 0., 0., 0., 0., 0., 0., 0., 0., 0.,\n",
              "       0., 0., 0., 0., 0., 0., 0., 0., 0., 0., 0., 0., 0., 0., 0., 0., 0.,\n",
              "       0., 0., 0., 0., 0., 0., 0., 0., 0., 0., 0., 0., 0., 0., 0., 0., 0.,\n",
              "       0., 0., 0., 0., 0., 0., 0., 0., 0., 0., 0., 0., 0., 0., 0., 0., 0.,\n",
              "       0., 0., 0., 0., 0., 0., 0., 0., 0., 0., 0., 0., 0., 0., 0., 0., 0.,\n",
              "       0., 0., 0., 0., 0., 0., 0., 0., 0., 0., 0., 0., 0., 0., 0., 0., 0.,\n",
              "       0., 0., 0., 0., 0., 0., 0., 0., 0., 0., 0., 0., 0., 0., 0., 0., 0.,\n",
              "       0., 0., 0., 0., 0., 0., 0., 0., 0., 0., 0., 0., 0., 0., 0., 0., 0.,\n",
              "       0., 0., 0., 0., 0., 0., 0., 0., 0., 0., 0., 0., 0., 0., 0., 0., 0.,\n",
              "       0., 0., 0., 0., 0., 0., 0., 0., 0., 0., 0., 0., 0., 0., 0., 0., 0.,\n",
              "       0., 0., 0., 0., 0., 0., 0., 0., 0., 0., 0., 0., 0., 0., 0., 0., 0.,\n",
              "       0., 0., 0., 0., 0., 0., 0., 0., 0., 0., 0., 0., 0., 1., 0., 0., 0.,\n",
              "       0., 0., 0., 0., 0., 0., 0., 0., 0., 0., 0., 0., 0., 0., 0., 0., 0.,\n",
              "       0., 0., 0., 0., 0., 0., 0., 0., 0., 0., 0., 0., 0., 0., 0., 0., 0.,\n",
              "       0., 0., 0., 0., 0., 0., 0., 0.], dtype=float32)"
            ]
          },
          "metadata": {
            "tags": []
          },
          "execution_count": 83
        }
      ]
    },
    {
      "cell_type": "code",
      "metadata": {
        "id": "4WZ6oR8L0hh1",
        "colab_type": "code",
        "colab": {
          "base_uri": "https://localhost:8080/",
          "height": 1000
        },
        "outputId": "67ad673c-aa41-4076-9cbc-bda48f45898e"
      },
      "source": [
        "model.compile(optimizer='adam', loss='categorical_crossentropy', metrics=['accuracy'])\n",
        "\n",
        "history = model.fit(train_sent, train_labels, validation_data=[test_sent, test_labels], epochs=100)"
      ],
      "execution_count": 78,
      "outputs": [
        {
          "output_type": "stream",
          "text": [
            "Epoch 1/100\n",
            "12/12 [==============================] - 1s 51ms/step - loss: 5.3757 - accuracy: 0.0221 - val_loss: 0.0000e+00 - val_accuracy: 0.0000e+00\n",
            "Epoch 2/100\n",
            "12/12 [==============================] - 0s 11ms/step - loss: 5.3461 - accuracy: 0.0608 - val_loss: 0.0000e+00 - val_accuracy: 0.0000e+00\n",
            "Epoch 3/100\n",
            "12/12 [==============================] - 0s 11ms/step - loss: 5.2595 - accuracy: 0.0552 - val_loss: 0.0000e+00 - val_accuracy: 0.0000e+00\n",
            "Epoch 4/100\n",
            "12/12 [==============================] - 0s 11ms/step - loss: 5.0548 - accuracy: 0.0552 - val_loss: 0.0000e+00 - val_accuracy: 0.0000e+00\n",
            "Epoch 5/100\n",
            "12/12 [==============================] - 0s 11ms/step - loss: 4.8838 - accuracy: 0.0552 - val_loss: 0.0000e+00 - val_accuracy: 0.0000e+00\n",
            "Epoch 6/100\n",
            "12/12 [==============================] - 0s 11ms/step - loss: 4.8341 - accuracy: 0.0552 - val_loss: 0.0000e+00 - val_accuracy: 0.0000e+00\n",
            "Epoch 7/100\n",
            "12/12 [==============================] - 0s 11ms/step - loss: 4.7973 - accuracy: 0.0470 - val_loss: 0.0000e+00 - val_accuracy: 0.0000e+00\n",
            "Epoch 8/100\n",
            "12/12 [==============================] - 0s 11ms/step - loss: 4.7570 - accuracy: 0.0635 - val_loss: 0.0000e+00 - val_accuracy: 0.0000e+00\n",
            "Epoch 9/100\n",
            "12/12 [==============================] - 0s 10ms/step - loss: 4.7094 - accuracy: 0.0580 - val_loss: 0.0000e+00 - val_accuracy: 0.0000e+00\n",
            "Epoch 10/100\n",
            "12/12 [==============================] - 0s 11ms/step - loss: 4.6513 - accuracy: 0.0580 - val_loss: 0.0000e+00 - val_accuracy: 0.0000e+00\n",
            "Epoch 11/100\n",
            "12/12 [==============================] - 0s 11ms/step - loss: 4.5819 - accuracy: 0.0718 - val_loss: 0.0000e+00 - val_accuracy: 0.0000e+00\n",
            "Epoch 12/100\n",
            "12/12 [==============================] - 0s 11ms/step - loss: 4.4992 - accuracy: 0.0746 - val_loss: 0.0000e+00 - val_accuracy: 0.0000e+00\n",
            "Epoch 13/100\n",
            "12/12 [==============================] - 0s 11ms/step - loss: 4.4186 - accuracy: 0.0856 - val_loss: 0.0000e+00 - val_accuracy: 0.0000e+00\n",
            "Epoch 14/100\n",
            "12/12 [==============================] - 0s 11ms/step - loss: 4.3070 - accuracy: 0.0994 - val_loss: 0.0000e+00 - val_accuracy: 0.0000e+00\n",
            "Epoch 15/100\n",
            "12/12 [==============================] - 0s 11ms/step - loss: 4.1833 - accuracy: 0.0884 - val_loss: 0.0000e+00 - val_accuracy: 0.0000e+00\n",
            "Epoch 16/100\n",
            "12/12 [==============================] - 0s 11ms/step - loss: 4.0477 - accuracy: 0.1050 - val_loss: 0.0000e+00 - val_accuracy: 0.0000e+00\n",
            "Epoch 17/100\n",
            "12/12 [==============================] - 0s 11ms/step - loss: 3.9078 - accuracy: 0.1298 - val_loss: 0.0000e+00 - val_accuracy: 0.0000e+00\n",
            "Epoch 18/100\n",
            "12/12 [==============================] - 0s 11ms/step - loss: 3.7815 - accuracy: 0.1271 - val_loss: 0.0000e+00 - val_accuracy: 0.0000e+00\n",
            "Epoch 19/100\n",
            "12/12 [==============================] - 0s 11ms/step - loss: 3.6499 - accuracy: 0.1547 - val_loss: 0.0000e+00 - val_accuracy: 0.0000e+00\n",
            "Epoch 20/100\n",
            "12/12 [==============================] - 0s 12ms/step - loss: 3.5401 - accuracy: 0.1630 - val_loss: 0.0000e+00 - val_accuracy: 0.0000e+00\n",
            "Epoch 21/100\n",
            "12/12 [==============================] - 0s 11ms/step - loss: 3.4299 - accuracy: 0.1657 - val_loss: 0.0000e+00 - val_accuracy: 0.0000e+00\n",
            "Epoch 22/100\n",
            "12/12 [==============================] - 0s 11ms/step - loss: 3.3179 - accuracy: 0.1713 - val_loss: 0.0000e+00 - val_accuracy: 0.0000e+00\n",
            "Epoch 23/100\n",
            "12/12 [==============================] - 0s 11ms/step - loss: 3.2195 - accuracy: 0.1740 - val_loss: 0.0000e+00 - val_accuracy: 0.0000e+00\n",
            "Epoch 24/100\n",
            "12/12 [==============================] - 0s 11ms/step - loss: 3.1085 - accuracy: 0.2182 - val_loss: 0.0000e+00 - val_accuracy: 0.0000e+00\n",
            "Epoch 25/100\n",
            "12/12 [==============================] - 0s 11ms/step - loss: 3.0093 - accuracy: 0.2320 - val_loss: 0.0000e+00 - val_accuracy: 0.0000e+00\n",
            "Epoch 26/100\n",
            "12/12 [==============================] - 0s 11ms/step - loss: 2.9156 - accuracy: 0.2265 - val_loss: 0.0000e+00 - val_accuracy: 0.0000e+00\n",
            "Epoch 27/100\n",
            "12/12 [==============================] - 0s 12ms/step - loss: 2.8341 - accuracy: 0.2845 - val_loss: 0.0000e+00 - val_accuracy: 0.0000e+00\n",
            "Epoch 28/100\n",
            "12/12 [==============================] - 0s 11ms/step - loss: 2.7388 - accuracy: 0.2680 - val_loss: 0.0000e+00 - val_accuracy: 0.0000e+00\n",
            "Epoch 29/100\n",
            "12/12 [==============================] - 0s 12ms/step - loss: 2.6478 - accuracy: 0.3149 - val_loss: 0.0000e+00 - val_accuracy: 0.0000e+00\n",
            "Epoch 30/100\n",
            "12/12 [==============================] - 0s 11ms/step - loss: 2.5685 - accuracy: 0.3232 - val_loss: 0.0000e+00 - val_accuracy: 0.0000e+00\n",
            "Epoch 31/100\n",
            "12/12 [==============================] - 0s 11ms/step - loss: 2.4947 - accuracy: 0.3343 - val_loss: 0.0000e+00 - val_accuracy: 0.0000e+00\n",
            "Epoch 32/100\n",
            "12/12 [==============================] - 0s 11ms/step - loss: 2.4220 - accuracy: 0.3812 - val_loss: 0.0000e+00 - val_accuracy: 0.0000e+00\n",
            "Epoch 33/100\n",
            "12/12 [==============================] - 0s 11ms/step - loss: 2.3709 - accuracy: 0.3702 - val_loss: 0.0000e+00 - val_accuracy: 0.0000e+00\n",
            "Epoch 34/100\n",
            "12/12 [==============================] - 0s 12ms/step - loss: 2.2871 - accuracy: 0.3978 - val_loss: 0.0000e+00 - val_accuracy: 0.0000e+00\n",
            "Epoch 35/100\n",
            "12/12 [==============================] - 0s 11ms/step - loss: 2.2145 - accuracy: 0.4337 - val_loss: 0.0000e+00 - val_accuracy: 0.0000e+00\n",
            "Epoch 36/100\n",
            "12/12 [==============================] - 0s 11ms/step - loss: 2.1724 - accuracy: 0.4530 - val_loss: 0.0000e+00 - val_accuracy: 0.0000e+00\n",
            "Epoch 37/100\n",
            "12/12 [==============================] - 0s 11ms/step - loss: 2.0807 - accuracy: 0.4834 - val_loss: 0.0000e+00 - val_accuracy: 0.0000e+00\n",
            "Epoch 38/100\n",
            "12/12 [==============================] - 0s 11ms/step - loss: 2.0330 - accuracy: 0.4724 - val_loss: 0.0000e+00 - val_accuracy: 0.0000e+00\n",
            "Epoch 39/100\n",
            "12/12 [==============================] - 0s 11ms/step - loss: 1.9636 - accuracy: 0.5276 - val_loss: 0.0000e+00 - val_accuracy: 0.0000e+00\n",
            "Epoch 40/100\n",
            "12/12 [==============================] - 0s 11ms/step - loss: 1.9103 - accuracy: 0.5497 - val_loss: 0.0000e+00 - val_accuracy: 0.0000e+00\n",
            "Epoch 41/100\n",
            "12/12 [==============================] - 0s 12ms/step - loss: 1.8478 - accuracy: 0.5249 - val_loss: 0.0000e+00 - val_accuracy: 0.0000e+00\n",
            "Epoch 42/100\n",
            "12/12 [==============================] - 0s 10ms/step - loss: 1.7856 - accuracy: 0.5470 - val_loss: 0.0000e+00 - val_accuracy: 0.0000e+00\n",
            "Epoch 43/100\n",
            "12/12 [==============================] - 0s 11ms/step - loss: 1.7440 - accuracy: 0.5829 - val_loss: 0.0000e+00 - val_accuracy: 0.0000e+00\n",
            "Epoch 44/100\n",
            "12/12 [==============================] - 0s 12ms/step - loss: 1.6755 - accuracy: 0.6105 - val_loss: 0.0000e+00 - val_accuracy: 0.0000e+00\n",
            "Epoch 45/100\n",
            "12/12 [==============================] - 0s 10ms/step - loss: 1.6298 - accuracy: 0.5994 - val_loss: 0.0000e+00 - val_accuracy: 0.0000e+00\n",
            "Epoch 46/100\n",
            "12/12 [==============================] - 0s 12ms/step - loss: 1.5867 - accuracy: 0.6133 - val_loss: 0.0000e+00 - val_accuracy: 0.0000e+00\n",
            "Epoch 47/100\n",
            "12/12 [==============================] - 0s 11ms/step - loss: 1.5230 - accuracy: 0.6519 - val_loss: 0.0000e+00 - val_accuracy: 0.0000e+00\n",
            "Epoch 48/100\n",
            "12/12 [==============================] - 0s 11ms/step - loss: 1.4926 - accuracy: 0.6215 - val_loss: 0.0000e+00 - val_accuracy: 0.0000e+00\n",
            "Epoch 49/100\n",
            "12/12 [==============================] - 0s 11ms/step - loss: 1.4544 - accuracy: 0.6657 - val_loss: 0.0000e+00 - val_accuracy: 0.0000e+00\n",
            "Epoch 50/100\n",
            "12/12 [==============================] - 0s 10ms/step - loss: 1.4087 - accuracy: 0.6768 - val_loss: 0.0000e+00 - val_accuracy: 0.0000e+00\n",
            "Epoch 51/100\n",
            "12/12 [==============================] - 0s 11ms/step - loss: 1.3593 - accuracy: 0.6878 - val_loss: 0.0000e+00 - val_accuracy: 0.0000e+00\n",
            "Epoch 52/100\n",
            "12/12 [==============================] - 0s 11ms/step - loss: 1.3121 - accuracy: 0.7072 - val_loss: 0.0000e+00 - val_accuracy: 0.0000e+00\n",
            "Epoch 53/100\n",
            "12/12 [==============================] - 0s 11ms/step - loss: 1.2801 - accuracy: 0.7182 - val_loss: 0.0000e+00 - val_accuracy: 0.0000e+00\n",
            "Epoch 54/100\n",
            "12/12 [==============================] - 0s 11ms/step - loss: 1.2053 - accuracy: 0.7707 - val_loss: 0.0000e+00 - val_accuracy: 0.0000e+00\n",
            "Epoch 55/100\n",
            "12/12 [==============================] - 0s 11ms/step - loss: 1.1806 - accuracy: 0.7597 - val_loss: 0.0000e+00 - val_accuracy: 0.0000e+00\n",
            "Epoch 56/100\n",
            "12/12 [==============================] - 0s 11ms/step - loss: 1.1573 - accuracy: 0.7762 - val_loss: 0.0000e+00 - val_accuracy: 0.0000e+00\n",
            "Epoch 57/100\n",
            "12/12 [==============================] - 0s 10ms/step - loss: 1.1185 - accuracy: 0.7514 - val_loss: 0.0000e+00 - val_accuracy: 0.0000e+00\n",
            "Epoch 58/100\n",
            "12/12 [==============================] - 0s 10ms/step - loss: 1.0576 - accuracy: 0.7873 - val_loss: 0.0000e+00 - val_accuracy: 0.0000e+00\n",
            "Epoch 59/100\n",
            "12/12 [==============================] - 0s 11ms/step - loss: 1.0296 - accuracy: 0.8122 - val_loss: 0.0000e+00 - val_accuracy: 0.0000e+00\n",
            "Epoch 60/100\n",
            "12/12 [==============================] - 0s 10ms/step - loss: 0.9899 - accuracy: 0.8039 - val_loss: 0.0000e+00 - val_accuracy: 0.0000e+00\n",
            "Epoch 61/100\n",
            "12/12 [==============================] - 0s 11ms/step - loss: 0.9568 - accuracy: 0.8287 - val_loss: 0.0000e+00 - val_accuracy: 0.0000e+00\n",
            "Epoch 62/100\n",
            "12/12 [==============================] - 0s 12ms/step - loss: 0.9386 - accuracy: 0.8094 - val_loss: 0.0000e+00 - val_accuracy: 0.0000e+00\n",
            "Epoch 63/100\n",
            "12/12 [==============================] - 0s 11ms/step - loss: 0.9195 - accuracy: 0.8149 - val_loss: 0.0000e+00 - val_accuracy: 0.0000e+00\n",
            "Epoch 64/100\n",
            "12/12 [==============================] - 0s 12ms/step - loss: 0.8980 - accuracy: 0.8122 - val_loss: 0.0000e+00 - val_accuracy: 0.0000e+00\n",
            "Epoch 65/100\n",
            "12/12 [==============================] - 0s 10ms/step - loss: 0.8658 - accuracy: 0.8453 - val_loss: 0.0000e+00 - val_accuracy: 0.0000e+00\n",
            "Epoch 66/100\n",
            "12/12 [==============================] - 0s 11ms/step - loss: 0.8288 - accuracy: 0.8398 - val_loss: 0.0000e+00 - val_accuracy: 0.0000e+00\n",
            "Epoch 67/100\n",
            "12/12 [==============================] - 0s 10ms/step - loss: 0.8018 - accuracy: 0.8481 - val_loss: 0.0000e+00 - val_accuracy: 0.0000e+00\n",
            "Epoch 68/100\n",
            "12/12 [==============================] - 0s 11ms/step - loss: 0.7816 - accuracy: 0.8508 - val_loss: 0.0000e+00 - val_accuracy: 0.0000e+00\n",
            "Epoch 69/100\n",
            "12/12 [==============================] - 0s 12ms/step - loss: 0.7604 - accuracy: 0.8619 - val_loss: 0.0000e+00 - val_accuracy: 0.0000e+00\n",
            "Epoch 70/100\n",
            "12/12 [==============================] - 0s 11ms/step - loss: 0.7441 - accuracy: 0.8398 - val_loss: 0.0000e+00 - val_accuracy: 0.0000e+00\n",
            "Epoch 71/100\n",
            "12/12 [==============================] - 0s 11ms/step - loss: 0.7150 - accuracy: 0.8536 - val_loss: 0.0000e+00 - val_accuracy: 0.0000e+00\n",
            "Epoch 72/100\n",
            "12/12 [==============================] - 0s 11ms/step - loss: 0.6764 - accuracy: 0.8646 - val_loss: 0.0000e+00 - val_accuracy: 0.0000e+00\n",
            "Epoch 73/100\n",
            "12/12 [==============================] - 0s 10ms/step - loss: 0.6540 - accuracy: 0.8757 - val_loss: 0.0000e+00 - val_accuracy: 0.0000e+00\n",
            "Epoch 74/100\n",
            "12/12 [==============================] - 0s 11ms/step - loss: 0.6324 - accuracy: 0.8923 - val_loss: 0.0000e+00 - val_accuracy: 0.0000e+00\n",
            "Epoch 75/100\n",
            "12/12 [==============================] - 0s 11ms/step - loss: 0.6142 - accuracy: 0.8867 - val_loss: 0.0000e+00 - val_accuracy: 0.0000e+00\n",
            "Epoch 76/100\n",
            "12/12 [==============================] - 0s 12ms/step - loss: 0.5995 - accuracy: 0.8812 - val_loss: 0.0000e+00 - val_accuracy: 0.0000e+00\n",
            "Epoch 77/100\n",
            "12/12 [==============================] - 0s 11ms/step - loss: 0.5889 - accuracy: 0.8757 - val_loss: 0.0000e+00 - val_accuracy: 0.0000e+00\n",
            "Epoch 78/100\n",
            "12/12 [==============================] - 0s 11ms/step - loss: 0.5864 - accuracy: 0.8757 - val_loss: 0.0000e+00 - val_accuracy: 0.0000e+00\n",
            "Epoch 79/100\n",
            "12/12 [==============================] - 0s 11ms/step - loss: 0.5891 - accuracy: 0.8840 - val_loss: 0.0000e+00 - val_accuracy: 0.0000e+00\n",
            "Epoch 80/100\n",
            "12/12 [==============================] - 0s 10ms/step - loss: 0.5664 - accuracy: 0.8840 - val_loss: 0.0000e+00 - val_accuracy: 0.0000e+00\n",
            "Epoch 81/100\n",
            "12/12 [==============================] - 0s 11ms/step - loss: 0.5403 - accuracy: 0.8867 - val_loss: 0.0000e+00 - val_accuracy: 0.0000e+00\n",
            "Epoch 82/100\n",
            "12/12 [==============================] - 0s 11ms/step - loss: 0.5230 - accuracy: 0.8895 - val_loss: 0.0000e+00 - val_accuracy: 0.0000e+00\n",
            "Epoch 83/100\n",
            "12/12 [==============================] - 0s 12ms/step - loss: 0.5041 - accuracy: 0.8895 - val_loss: 0.0000e+00 - val_accuracy: 0.0000e+00\n",
            "Epoch 84/100\n",
            "12/12 [==============================] - 0s 11ms/step - loss: 0.4770 - accuracy: 0.9006 - val_loss: 0.0000e+00 - val_accuracy: 0.0000e+00\n",
            "Epoch 85/100\n",
            "12/12 [==============================] - 0s 11ms/step - loss: 0.4661 - accuracy: 0.9033 - val_loss: 0.0000e+00 - val_accuracy: 0.0000e+00\n",
            "Epoch 86/100\n",
            "12/12 [==============================] - 0s 11ms/step - loss: 0.4489 - accuracy: 0.9088 - val_loss: 0.0000e+00 - val_accuracy: 0.0000e+00\n",
            "Epoch 87/100\n",
            "12/12 [==============================] - 0s 10ms/step - loss: 0.4307 - accuracy: 0.9144 - val_loss: 0.0000e+00 - val_accuracy: 0.0000e+00\n",
            "Epoch 88/100\n",
            "12/12 [==============================] - 0s 10ms/step - loss: 0.4367 - accuracy: 0.9116 - val_loss: 0.0000e+00 - val_accuracy: 0.0000e+00\n",
            "Epoch 89/100\n",
            "12/12 [==============================] - 0s 11ms/step - loss: 0.4165 - accuracy: 0.9116 - val_loss: 0.0000e+00 - val_accuracy: 0.0000e+00\n",
            "Epoch 90/100\n",
            "12/12 [==============================] - 0s 12ms/step - loss: 0.3969 - accuracy: 0.9144 - val_loss: 0.0000e+00 - val_accuracy: 0.0000e+00\n",
            "Epoch 91/100\n",
            "12/12 [==============================] - 0s 11ms/step - loss: 0.3824 - accuracy: 0.9254 - val_loss: 0.0000e+00 - val_accuracy: 0.0000e+00\n",
            "Epoch 92/100\n",
            "12/12 [==============================] - 0s 11ms/step - loss: 0.3743 - accuracy: 0.9282 - val_loss: 0.0000e+00 - val_accuracy: 0.0000e+00\n",
            "Epoch 93/100\n",
            "12/12 [==============================] - 0s 11ms/step - loss: 0.3596 - accuracy: 0.9337 - val_loss: 0.0000e+00 - val_accuracy: 0.0000e+00\n",
            "Epoch 94/100\n",
            "12/12 [==============================] - 0s 11ms/step - loss: 0.3559 - accuracy: 0.9337 - val_loss: 0.0000e+00 - val_accuracy: 0.0000e+00\n",
            "Epoch 95/100\n",
            "12/12 [==============================] - 0s 10ms/step - loss: 0.3398 - accuracy: 0.9282 - val_loss: 0.0000e+00 - val_accuracy: 0.0000e+00\n",
            "Epoch 96/100\n",
            "12/12 [==============================] - 0s 11ms/step - loss: 0.3336 - accuracy: 0.9227 - val_loss: 0.0000e+00 - val_accuracy: 0.0000e+00\n",
            "Epoch 97/100\n",
            "12/12 [==============================] - 0s 12ms/step - loss: 0.3273 - accuracy: 0.9392 - val_loss: 0.0000e+00 - val_accuracy: 0.0000e+00\n",
            "Epoch 98/100\n",
            "12/12 [==============================] - 0s 11ms/step - loss: 0.3224 - accuracy: 0.9448 - val_loss: 0.0000e+00 - val_accuracy: 0.0000e+00\n",
            "Epoch 99/100\n",
            "12/12 [==============================] - 0s 11ms/step - loss: 0.3121 - accuracy: 0.9392 - val_loss: 0.0000e+00 - val_accuracy: 0.0000e+00\n",
            "Epoch 100/100\n",
            "12/12 [==============================] - 0s 11ms/step - loss: 0.2989 - accuracy: 0.9503 - val_loss: 0.0000e+00 - val_accuracy: 0.0000e+00\n"
          ],
          "name": "stdout"
        }
      ]
    },
    {
      "cell_type": "code",
      "metadata": {
        "id": "0Fp61Op22eo7",
        "colab_type": "code",
        "colab": {
          "base_uri": "https://localhost:8080/",
          "height": 282
        },
        "outputId": "50239066-31be-4570-9278-471f3e4f8ec6"
      },
      "source": [
        "import matplotlib.pyplot as plt\n",
        "\n",
        "plt.plot(history.history['accuracy'])\n",
        "# plt.ylabel('accuracy')\n",
        "plt.plot(history.history['loss'])\n",
        "# plt.ylabel('loss')"
      ],
      "execution_count": 88,
      "outputs": [
        {
          "output_type": "execute_result",
          "data": {
            "text/plain": [
              "[<matplotlib.lines.Line2D at 0x7f73751977f0>]"
            ]
          },
          "metadata": {
            "tags": []
          },
          "execution_count": 88
        },
        {
          "output_type": "display_data",
          "data": {
            "image/png": "[encoded data removed]",
            "text/plain": [
              "<Figure size 432x288 with 1 Axes>"
            ]
          },
          "metadata": {
            "tags": [],
            "needs_background": "light"
          }
        }
      ]
    },
    {
      "cell_type": "code",
      "metadata": {
        "id": "2JvdeToZ2hdv",
        "colab_type": "code",
        "colab": {}
      },
      "source": [
        ""
      ],
      "execution_count": null,
      "outputs": []
    }
  ]
}