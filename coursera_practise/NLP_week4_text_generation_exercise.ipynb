{
  "nbformat": 4,
  "nbformat_minor": 0,
  "metadata": {
    "kernelspec": {
      "display_name": "Python 3",
      "language": "python",
      "name": "python3"
    },
    "language_info": {
      "codemirror_mode": {
        "name": "ipython",
        "version": 3
      },
      "file_extension": ".py",
      "mimetype": "text/x-python",
      "name": "python",
      "nbconvert_exporter": "python",
      "pygments_lexer": "ipython3",
      "version": "3.8.3"
    },
    "colab": {
      "name": "tensorflow_NLP.ipynb",
      "provenance": [],
      "include_colab_link": true
    },
    "accelerator": "GPU"
  },
  "cells": [
    {
      "cell_type": "markdown",
      "metadata": {
        "id": "view-in-github",
        "colab_type": "text"
      },
      "source": [
        "<a href=\"https://colab.research.google.com/github/praths007/tensorflow_certification/blob/master/coursera_practise/NLP_week4_text_generation_exercise.ipynb\" target=\"_parent\"><img src=\"https://colab.research.google.com/assets/colab-badge.svg\" alt=\"Open In Colab\"/></a>"
      ]
    },
    {
      "cell_type": "code",
      "metadata": {
        "id": "3qmO6nyR5MGn",
        "colab_type": "code",
        "colab": {}
      },
      "source": [
        "import tensorflow as tf"
      ],
      "execution_count": 2,
      "outputs": []
    },
    {
      "cell_type": "code",
      "metadata": {
        "id": "KOC7bVJa5OUO",
        "colab_type": "code",
        "colab": {
          "base_uri": "https://localhost:8080/",
          "height": 35
        },
        "outputId": "c3791f81-c76c-41a4-bf04-ae7dbb88be59"
      },
      "source": [
        "tf.__version__"
      ],
      "execution_count": 3,
      "outputs": [
        {
          "output_type": "execute_result",
          "data": {
            "application/vnd.google.colaboratory.intrinsic+json": {
              "type": "string"
            },
            "text/plain": [
              "'2.3.0'"
            ]
          },
          "metadata": {
            "tags": []
          },
          "execution_count": 3
        }
      ]
    },
    {
      "cell_type": "code",
      "metadata": {
        "id": "2glVPyTN5XUY",
        "colab_type": "code",
        "colab": {}
      },
      "source": [
        "import tensorflow\n",
        "import numpy as np\n",
        "import csv\n",
        "from tensorflow.keras.preprocessing.text import Tokenizer\n",
        "from tensorflow.keras.preprocessing.sequence import pad_sequences\n",
        "from tensorflow.keras import Sequential\n",
        "from tensorflow.keras.layers import Dense, GlobalAvgPool1D, LSTM, Bidirectional, Embedding, Flatten\n",
        "from tensorflow.keras.utils import to_categorical"
      ],
      "execution_count": 4,
      "outputs": []
    },
    {
      "cell_type": "code",
      "metadata": {
        "id": "960_NSPSvlBi",
        "colab_type": "code",
        "colab": {
          "base_uri": "https://localhost:8080/",
          "height": 204
        },
        "outputId": "aa3f2cb5-88c8-44fb-d36d-ca700cc9c8fa"
      },
      "source": [
        "!wget --no-check-certificate \\\n",
        "    https://storage.googleapis.com/laurencemoroney-blog.appspot.com/sonnets.txt \\\n",
        "    -O /tmp/sonnets.txt\n",
        "\n"
      ],
      "execution_count": 5,
      "outputs": [
        {
          "output_type": "stream",
          "text": [
            "--2020-08-18 09:15:29--  https://storage.googleapis.com/laurencemoroney-blog.appspot.com/sonnets.txt\n",
            "Resolving storage.googleapis.com (storage.googleapis.com)... 142.250.1.128, 108.177.112.128, 172.217.212.128, ...\n",
            "Connecting to storage.googleapis.com (storage.googleapis.com)|142.250.1.128|:443... connected.\n",
            "HTTP request sent, awaiting response... 200 OK\n",
            "Length: 93578 (91K) [text/plain]\n",
            "Saving to: ‘/tmp/sonnets.txt’\n",
            "\n",
            "\r/tmp/sonnets.txt      0%[                    ]       0  --.-KB/s               \r/tmp/sonnets.txt    100%[===================>]  91.38K  --.-KB/s    in 0.001s  \n",
            "\n",
            "2020-08-18 09:15:29 (111 MB/s) - ‘/tmp/sonnets.txt’ saved [93578/93578]\n",
            "\n"
          ],
          "name": "stdout"
        }
      ]
    },
    {
      "cell_type": "code",
      "metadata": {
        "id": "vWJCQd_qu_xU",
        "colab_type": "code",
        "colab": {}
      },
      "source": [
        "sonnets = []\n",
        "with open(\"/tmp/sonnets.txt\", 'r') as sonnet_text:\n",
        "  for line in sonnet_text:\n",
        "    sonnets.append(line.lower().split('\\n')[0])"
      ],
      "execution_count": 6,
      "outputs": []
    },
    {
      "cell_type": "code",
      "metadata": {
        "id": "iol2nHxHv4C_",
        "colab_type": "code",
        "colab": {}
      },
      "source": [
        "tokenizer = Tokenizer()\n",
        "\n",
        "tokenizer.fit_on_texts(sonnets)\n",
        "\n",
        "train_sonnet = []\n",
        "for line in sonnets:\n",
        "  seq = tokenizer.texts_to_sequences([line])[0]\n",
        "  for i in range(1, len(seq)):\n",
        "    train_sonnet.append(seq[:i+1])\n"
      ],
      "execution_count": 7,
      "outputs": []
    },
    {
      "cell_type": "code",
      "metadata": {
        "id": "9K6ELCCew_Vp",
        "colab_type": "code",
        "colab": {}
      },
      "source": [
        "maxlen = max([len(s) for s in train_sonnet])\n",
        "sonnet_padded = pad_sequences(train_sonnet, maxlen=maxlen, padding=\"pre\")"
      ],
      "execution_count": 8,
      "outputs": []
    },
    {
      "cell_type": "code",
      "metadata": {
        "id": "zNWb3TqBxSdM",
        "colab_type": "code",
        "colab": {}
      },
      "source": [
        "sonnet = sonnet_padded[:,:-1]\n",
        "labels = sonnet_padded[:,-1]"
      ],
      "execution_count": 9,
      "outputs": []
    },
    {
      "cell_type": "code",
      "metadata": {
        "id": "DCJex2tWxbvf",
        "colab_type": "code",
        "colab": {}
      },
      "source": [
        "labels = tf.keras.utils.to_categorical(labels)\n",
        "sonnet = np.array(sonnet)\n",
        "labels = np.array(labels)"
      ],
      "execution_count": 10,
      "outputs": []
    },
    {
      "cell_type": "code",
      "metadata": {
        "id": "Zy3OGhFKyV2n",
        "colab_type": "code",
        "colab": {
          "base_uri": "https://localhost:8080/",
          "height": 34
        },
        "outputId": "edc821ac-7624-4dbf-f3e0-9dd245066565"
      },
      "source": [
        "labels.shape"
      ],
      "execution_count": 11,
      "outputs": [
        {
          "output_type": "execute_result",
          "data": {
            "text/plain": [
              "(15462, 3211)"
            ]
          },
          "metadata": {
            "tags": []
          },
          "execution_count": 11
        }
      ]
    },
    {
      "cell_type": "code",
      "metadata": {
        "id": "WdIKPxCXxmZA",
        "colab_type": "code",
        "colab": {}
      },
      "source": [
        "model = Sequential([\n",
        "                    Embedding(10000, 64, input_length=sonnet.shape[1]),\n",
        "                    Bidirectional(LSTM(64, return_sequences=True)),\n",
        "                    Bidirectional(LSTM(64)),\n",
        "                    Flatten(),\n",
        "                    Dense(128, activation='relu'),\n",
        "                    Dense(labels.shape[1], activation='softmax')\n",
        "])"
      ],
      "execution_count": 12,
      "outputs": []
    },
    {
      "cell_type": "code",
      "metadata": {
        "id": "HM4qV2u8yeQF",
        "colab_type": "code",
        "colab": {
          "base_uri": "https://localhost:8080/",
          "height": 357
        },
        "outputId": "e0a859e2-ebb0-4418-b323-54a8845adc05"
      },
      "source": [
        "model.summary()"
      ],
      "execution_count": 13,
      "outputs": [
        {
          "output_type": "stream",
          "text": [
            "Model: \"sequential\"\n",
            "_________________________________________________________________\n",
            "Layer (type)                 Output Shape              Param #   \n",
            "=================================================================\n",
            "embedding (Embedding)        (None, 10, 64)            640000    \n",
            "_________________________________________________________________\n",
            "bidirectional (Bidirectional (None, 10, 128)           66048     \n",
            "_________________________________________________________________\n",
            "bidirectional_1 (Bidirection (None, 128)               98816     \n",
            "_________________________________________________________________\n",
            "flatten (Flatten)            (None, 128)               0         \n",
            "_________________________________________________________________\n",
            "dense (Dense)                (None, 128)               16512     \n",
            "_________________________________________________________________\n",
            "dense_1 (Dense)              (None, 3211)              414219    \n",
            "=================================================================\n",
            "Total params: 1,235,595\n",
            "Trainable params: 1,235,595\n",
            "Non-trainable params: 0\n",
            "_________________________________________________________________\n"
          ],
          "name": "stdout"
        }
      ]
    },
    {
      "cell_type": "code",
      "metadata": {
        "id": "MbtPG5kQymsl",
        "colab_type": "code",
        "colab": {
          "base_uri": "https://localhost:8080/",
          "height": 1000
        },
        "outputId": "c599e06d-3bac-4481-cf4d-a2807b023c8f"
      },
      "source": [
        "# adam_opt=tf.keras.optimizers.Adam(lr=0.01)\n",
        "model.compile(optimizer='adam', loss='categorical_crossentropy', metrics=['accuracy'])\n",
        "\n",
        "history = model.fit(sonnet, labels, epochs=100)"
      ],
      "execution_count": 14,
      "outputs": [
        {
          "output_type": "stream",
          "text": [
            "Epoch 1/100\n",
            "484/484 [==============================] - 12s 24ms/step - loss: 6.8609 - accuracy: 0.0217\n",
            "Epoch 2/100\n",
            "484/484 [==============================] - 12s 24ms/step - loss: 6.4784 - accuracy: 0.0260\n",
            "Epoch 3/100\n",
            "484/484 [==============================] - 12s 24ms/step - loss: 6.3066 - accuracy: 0.0323\n",
            "Epoch 4/100\n",
            "484/484 [==============================] - 12s 24ms/step - loss: 6.1642 - accuracy: 0.0367\n",
            "Epoch 5/100\n",
            "484/484 [==============================] - 12s 24ms/step - loss: 6.0243 - accuracy: 0.0427\n",
            "Epoch 6/100\n",
            "484/484 [==============================] - 12s 24ms/step - loss: 5.8733 - accuracy: 0.0429\n",
            "Epoch 7/100\n",
            "484/484 [==============================] - 12s 25ms/step - loss: 5.7060 - accuracy: 0.0477\n",
            "Epoch 8/100\n",
            "484/484 [==============================] - 12s 24ms/step - loss: 5.5321 - accuracy: 0.0534\n",
            "Epoch 9/100\n",
            "484/484 [==============================] - 12s 24ms/step - loss: 5.3617 - accuracy: 0.0574\n",
            "Epoch 10/100\n",
            "484/484 [==============================] - 12s 24ms/step - loss: 5.1874 - accuracy: 0.0664\n",
            "Epoch 11/100\n",
            "484/484 [==============================] - 12s 24ms/step - loss: 5.0170 - accuracy: 0.0729\n",
            "Epoch 12/100\n",
            "484/484 [==============================] - 12s 24ms/step - loss: 4.8538 - accuracy: 0.0792\n",
            "Epoch 13/100\n",
            "484/484 [==============================] - 12s 24ms/step - loss: 4.6907 - accuracy: 0.0878\n",
            "Epoch 14/100\n",
            "484/484 [==============================] - 12s 24ms/step - loss: 4.5174 - accuracy: 0.0962\n",
            "Epoch 15/100\n",
            "484/484 [==============================] - 12s 24ms/step - loss: 4.3427 - accuracy: 0.1108\n",
            "Epoch 16/100\n",
            "484/484 [==============================] - 12s 25ms/step - loss: 4.1755 - accuracy: 0.1254\n",
            "Epoch 17/100\n",
            "484/484 [==============================] - 12s 25ms/step - loss: 3.9954 - accuracy: 0.1444\n",
            "Epoch 18/100\n",
            "484/484 [==============================] - 12s 24ms/step - loss: 3.8226 - accuracy: 0.1669\n",
            "Epoch 19/100\n",
            "484/484 [==============================] - 12s 24ms/step - loss: 3.6509 - accuracy: 0.1925\n",
            "Epoch 20/100\n",
            "484/484 [==============================] - 12s 25ms/step - loss: 3.4874 - accuracy: 0.2199\n",
            "Epoch 21/100\n",
            "484/484 [==============================] - 12s 24ms/step - loss: 3.3226 - accuracy: 0.2489\n",
            "Epoch 22/100\n",
            "484/484 [==============================] - 12s 24ms/step - loss: 3.1638 - accuracy: 0.2809\n",
            "Epoch 23/100\n",
            "484/484 [==============================] - 12s 25ms/step - loss: 3.0103 - accuracy: 0.3079\n",
            "Epoch 24/100\n",
            "484/484 [==============================] - 12s 26ms/step - loss: 2.8709 - accuracy: 0.3365\n",
            "Epoch 25/100\n",
            "484/484 [==============================] - 12s 24ms/step - loss: 2.7329 - accuracy: 0.3633\n",
            "Epoch 26/100\n",
            "484/484 [==============================] - 12s 24ms/step - loss: 2.6000 - accuracy: 0.3907\n",
            "Epoch 27/100\n",
            "484/484 [==============================] - 12s 24ms/step - loss: 2.4868 - accuracy: 0.4155\n",
            "Epoch 28/100\n",
            "484/484 [==============================] - 12s 24ms/step - loss: 2.3666 - accuracy: 0.4407\n",
            "Epoch 29/100\n",
            "484/484 [==============================] - 12s 24ms/step - loss: 2.2624 - accuracy: 0.4659\n",
            "Epoch 30/100\n",
            "484/484 [==============================] - 12s 24ms/step - loss: 2.1654 - accuracy: 0.4911\n",
            "Epoch 31/100\n",
            "484/484 [==============================] - 12s 24ms/step - loss: 2.0653 - accuracy: 0.5080\n",
            "Epoch 32/100\n",
            "484/484 [==============================] - 12s 24ms/step - loss: 1.9872 - accuracy: 0.5247\n",
            "Epoch 33/100\n",
            "484/484 [==============================] - 12s 24ms/step - loss: 1.8842 - accuracy: 0.5520\n",
            "Epoch 34/100\n",
            "484/484 [==============================] - 12s 24ms/step - loss: 1.8093 - accuracy: 0.5698\n",
            "Epoch 35/100\n",
            "484/484 [==============================] - 12s 24ms/step - loss: 1.7314 - accuracy: 0.5860\n",
            "Epoch 36/100\n",
            "484/484 [==============================] - 12s 24ms/step - loss: 1.6656 - accuracy: 0.6030\n",
            "Epoch 37/100\n",
            "484/484 [==============================] - 12s 24ms/step - loss: 1.6126 - accuracy: 0.6124\n",
            "Epoch 38/100\n",
            "484/484 [==============================] - 12s 24ms/step - loss: 1.5332 - accuracy: 0.6325\n",
            "Epoch 39/100\n",
            "484/484 [==============================] - 12s 24ms/step - loss: 1.4746 - accuracy: 0.6458\n",
            "Epoch 40/100\n",
            "484/484 [==============================] - 12s 24ms/step - loss: 1.4242 - accuracy: 0.6589\n",
            "Epoch 41/100\n",
            "484/484 [==============================] - 12s 24ms/step - loss: 1.3656 - accuracy: 0.6737\n",
            "Epoch 42/100\n",
            "484/484 [==============================] - 12s 24ms/step - loss: 1.3351 - accuracy: 0.6800\n",
            "Epoch 43/100\n",
            "484/484 [==============================] - 12s 24ms/step - loss: 1.2706 - accuracy: 0.6950\n",
            "Epoch 44/100\n",
            "484/484 [==============================] - 12s 24ms/step - loss: 1.2337 - accuracy: 0.7048\n",
            "Epoch 45/100\n",
            "484/484 [==============================] - 12s 25ms/step - loss: 1.1960 - accuracy: 0.7169\n",
            "Epoch 46/100\n",
            "484/484 [==============================] - 12s 24ms/step - loss: 1.1409 - accuracy: 0.7257\n",
            "Epoch 47/100\n",
            "484/484 [==============================] - 12s 25ms/step - loss: 1.1125 - accuracy: 0.7345\n",
            "Epoch 48/100\n",
            "484/484 [==============================] - 12s 24ms/step - loss: 1.0944 - accuracy: 0.7364\n",
            "Epoch 49/100\n",
            "484/484 [==============================] - 12s 25ms/step - loss: 1.0666 - accuracy: 0.7397\n",
            "Epoch 50/100\n",
            "484/484 [==============================] - 12s 26ms/step - loss: 1.0418 - accuracy: 0.7470\n",
            "Epoch 51/100\n",
            "484/484 [==============================] - 12s 24ms/step - loss: 1.0002 - accuracy: 0.7568\n",
            "Epoch 52/100\n",
            "484/484 [==============================] - 12s 24ms/step - loss: 0.9643 - accuracy: 0.7685\n",
            "Epoch 53/100\n",
            "484/484 [==============================] - 12s 24ms/step - loss: 0.9532 - accuracy: 0.7704\n",
            "Epoch 54/100\n",
            "484/484 [==============================] - 12s 24ms/step - loss: 0.9217 - accuracy: 0.7763\n",
            "Epoch 55/100\n",
            "484/484 [==============================] - 12s 24ms/step - loss: 0.9241 - accuracy: 0.7735\n",
            "Epoch 56/100\n",
            "484/484 [==============================] - 12s 24ms/step - loss: 0.9066 - accuracy: 0.7763\n",
            "Epoch 57/100\n",
            "484/484 [==============================] - 12s 24ms/step - loss: 0.8924 - accuracy: 0.7776\n",
            "Epoch 58/100\n",
            "484/484 [==============================] - 12s 24ms/step - loss: 0.8575 - accuracy: 0.7899\n",
            "Epoch 59/100\n",
            "484/484 [==============================] - 12s 24ms/step - loss: 0.8156 - accuracy: 0.7998\n",
            "Epoch 60/100\n",
            "484/484 [==============================] - 12s 25ms/step - loss: 0.8089 - accuracy: 0.8011\n",
            "Epoch 61/100\n",
            "484/484 [==============================] - 12s 26ms/step - loss: 0.8372 - accuracy: 0.7945\n",
            "Epoch 62/100\n",
            "484/484 [==============================] - 12s 26ms/step - loss: 0.8154 - accuracy: 0.7997\n",
            "Epoch 63/100\n",
            "484/484 [==============================] - 12s 25ms/step - loss: 0.7933 - accuracy: 0.8022\n",
            "Epoch 64/100\n",
            "484/484 [==============================] - 12s 25ms/step - loss: 0.7585 - accuracy: 0.8135\n",
            "Epoch 65/100\n",
            "484/484 [==============================] - 12s 25ms/step - loss: 0.7474 - accuracy: 0.8131\n",
            "Epoch 66/100\n",
            "484/484 [==============================] - 12s 24ms/step - loss: 0.7629 - accuracy: 0.8098\n",
            "Epoch 67/100\n",
            "484/484 [==============================] - 12s 25ms/step - loss: 0.7536 - accuracy: 0.8102\n",
            "Epoch 68/100\n",
            "484/484 [==============================] - 12s 25ms/step - loss: 0.7354 - accuracy: 0.8150\n",
            "Epoch 69/100\n",
            "484/484 [==============================] - 12s 24ms/step - loss: 0.7163 - accuracy: 0.8214\n",
            "Epoch 70/100\n",
            "484/484 [==============================] - 12s 24ms/step - loss: 0.7002 - accuracy: 0.8232\n",
            "Epoch 71/100\n",
            "484/484 [==============================] - 12s 24ms/step - loss: 0.6981 - accuracy: 0.8219\n",
            "Epoch 72/100\n",
            "484/484 [==============================] - 12s 24ms/step - loss: 0.7028 - accuracy: 0.8205\n",
            "Epoch 73/100\n",
            "484/484 [==============================] - 12s 24ms/step - loss: 0.7076 - accuracy: 0.8205\n",
            "Epoch 74/100\n",
            "484/484 [==============================] - 12s 25ms/step - loss: 0.7001 - accuracy: 0.8197\n",
            "Epoch 75/100\n",
            "484/484 [==============================] - 12s 25ms/step - loss: 0.6719 - accuracy: 0.8283\n",
            "Epoch 76/100\n",
            "484/484 [==============================] - 13s 26ms/step - loss: 0.6781 - accuracy: 0.8240\n",
            "Epoch 77/100\n",
            "484/484 [==============================] - 12s 26ms/step - loss: 0.6683 - accuracy: 0.8265\n",
            "Epoch 78/100\n",
            "484/484 [==============================] - 12s 26ms/step - loss: 0.6646 - accuracy: 0.8295\n",
            "Epoch 79/100\n",
            "484/484 [==============================] - 12s 26ms/step - loss: 0.6571 - accuracy: 0.8281\n",
            "Epoch 80/100\n",
            "484/484 [==============================] - 12s 26ms/step - loss: 0.6367 - accuracy: 0.8353\n",
            "Epoch 81/100\n",
            "484/484 [==============================] - 12s 26ms/step - loss: 0.6217 - accuracy: 0.8387\n",
            "Epoch 82/100\n",
            "484/484 [==============================] - 12s 26ms/step - loss: 0.6380 - accuracy: 0.8339\n",
            "Epoch 83/100\n",
            "484/484 [==============================] - 12s 24ms/step - loss: 0.6951 - accuracy: 0.8160\n",
            "Epoch 84/100\n",
            "484/484 [==============================] - 12s 24ms/step - loss: 0.6982 - accuracy: 0.8143\n",
            "Epoch 85/100\n",
            "484/484 [==============================] - 12s 24ms/step - loss: 0.6683 - accuracy: 0.8251\n",
            "Epoch 86/100\n",
            "484/484 [==============================] - 12s 24ms/step - loss: 0.6087 - accuracy: 0.8403\n",
            "Epoch 87/100\n",
            "484/484 [==============================] - 12s 24ms/step - loss: 0.5912 - accuracy: 0.8434\n",
            "Epoch 88/100\n",
            "484/484 [==============================] - 12s 24ms/step - loss: 0.5857 - accuracy: 0.8441\n",
            "Epoch 89/100\n",
            "484/484 [==============================] - 12s 24ms/step - loss: 0.6019 - accuracy: 0.8390\n",
            "Epoch 90/100\n",
            "484/484 [==============================] - 12s 24ms/step - loss: 0.6653 - accuracy: 0.8210\n",
            "Epoch 91/100\n",
            "484/484 [==============================] - 12s 24ms/step - loss: 0.6538 - accuracy: 0.8241\n",
            "Epoch 92/100\n",
            "484/484 [==============================] - 12s 24ms/step - loss: 0.6212 - accuracy: 0.8343\n",
            "Epoch 93/100\n",
            "484/484 [==============================] - 12s 24ms/step - loss: 0.5915 - accuracy: 0.8413\n",
            "Epoch 94/100\n",
            "484/484 [==============================] - 12s 24ms/step - loss: 0.5717 - accuracy: 0.8452\n",
            "Epoch 95/100\n",
            "484/484 [==============================] - 12s 25ms/step - loss: 0.5639 - accuracy: 0.8467\n",
            "Epoch 96/100\n",
            "484/484 [==============================] - 12s 24ms/step - loss: 0.5670 - accuracy: 0.8475\n",
            "Epoch 97/100\n",
            "484/484 [==============================] - 12s 24ms/step - loss: 0.5857 - accuracy: 0.8426\n",
            "Epoch 98/100\n",
            "484/484 [==============================] - 12s 24ms/step - loss: 0.6769 - accuracy: 0.8142\n",
            "Epoch 99/100\n",
            "484/484 [==============================] - 12s 24ms/step - loss: 0.6658 - accuracy: 0.8154\n",
            "Epoch 100/100\n",
            "484/484 [==============================] - 12s 25ms/step - loss: 0.5941 - accuracy: 0.8372\n"
          ],
          "name": "stdout"
        }
      ]
    },
    {
      "cell_type": "code",
      "metadata": {
        "id": "pXFixVwA7dA8",
        "colab_type": "code",
        "colab": {
          "base_uri": "https://localhost:8080/",
          "height": 282
        },
        "outputId": "576f6c04-3dee-49bc-e304-1a079119da2d"
      },
      "source": [
        "import matplotlib.pyplot as plt\n",
        "\n",
        "plt.plot(history.history['accuracy'])\n",
        "plt.plot(history.history['loss'])"
      ],
      "execution_count": 17,
      "outputs": [
        {
          "output_type": "execute_result",
          "data": {
            "text/plain": [
              "[<matplotlib.lines.Line2D at 0x7fc34124a5c0>]"
            ]
          },
          "metadata": {
            "tags": []
          },
          "execution_count": 17
        },
        {
          "output_type": "display_data",
          "data": {
            "image/png": "[encoded data removed]",
            "text/plain": [
              "<Figure size 432x288 with 1 Axes>"
            ]
          },
          "metadata": {
            "tags": [],
            "needs_background": "light"
          }
        }
      ]
    }
  ]
}